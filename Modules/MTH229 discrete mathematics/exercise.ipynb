{
 "cells": [
  {
   "cell_type": "code",
   "execution_count": 42,
   "id": "33fce8e2",
   "metadata": {
    "scrolled": false
   },
   "outputs": [
    {
     "name": "stdout",
     "output_type": "stream",
     "text": [
      "[1, 4, 9, 16]\n",
      "(0, 0, 0, 1)\n"
     ]
    }
   ],
   "source": [
    "import itertools as it\n",
    "import numpy as np\n",
    "area = 4\n",
    "arr = [1,0,-1]\n",
    "squ = list(range(1,area+1))\n",
    "squ = [i * i for i in squ]\n",
    "print(squ)\n",
    "numbers = set()\n",
    "natural = set(range(1,200))\n",
    "i = 1\n",
    "for result in it.product(arr,repeat = area):    \n",
    "    num = np.dot(squ,result)\n",
    "    if num  > 0:\n",
    "        numbers.add(num)\n",
    "    if num == 16:\n",
    "        print(result)\n",
    "#print(numbers)\n",
    "#print(natural)\n",
    "#print(natural^numbers)\n",
    "#print(natural.difference(numbers))"
   ]
  },
  {
   "cell_type": "code",
   "execution_count": null,
   "id": "b776b05e",
   "metadata": {},
   "outputs": [],
   "source": []
  }
 ],
 "metadata": {
  "kernelspec": {
   "display_name": "Python 3 (ipykernel)",
   "language": "python",
   "name": "python3"
  },
  "language_info": {
   "codemirror_mode": {
    "name": "ipython",
    "version": 3
   },
   "file_extension": ".py",
   "mimetype": "text/x-python",
   "name": "python",
   "nbconvert_exporter": "python",
   "pygments_lexer": "ipython3",
   "version": "3.9.12"
  }
 },
 "nbformat": 4,
 "nbformat_minor": 5
}
