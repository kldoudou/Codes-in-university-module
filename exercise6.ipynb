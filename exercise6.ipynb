{
 "cells": [
  {
   "cell_type": "code",
   "execution_count": 30,
   "id": "33fce8e2",
   "metadata": {
    "scrolled": false
   },
   "outputs": [
    {
     "name": "stdout",
     "output_type": "stream",
     "text": [
      "finish\n"
     ]
    }
   ],
   "source": [
    "import itertools as it\n",
    "import numpy as np\n",
    "\n",
    "arr = [0,1,2,3,4,5,6,7,8,9,10,11,12,13,14,15,16,17,18,19]\n",
    "for result in it.product(arr,repeat = 6):\n",
    "    num = [1,2,3,4,5,6]\n",
    "    num[0] += result[0]+result[1]\n",
    "    num[1] += result[1]+result[2]\n",
    "    num[2] += result[2]+result[3]\n",
    "    num[3] += result[3]+result[4]\n",
    "    num[4] += result[4]+result[5]\n",
    "    num[5] += result[5]+result[0]\n",
    "    numbers = len(set(num))\n",
    "    if numbers ==1:\n",
    "        print(num)\n",
    "print(\"finish\")"
   ]
  },
  {
   "cell_type": "code",
   "execution_count": null,
   "id": "b776b05e",
   "metadata": {},
   "outputs": [],
   "source": []
  }
 ],
 "metadata": {
  "kernelspec": {
   "display_name": "Python 3 (ipykernel)",
   "language": "python",
   "name": "python3"
  },
  "language_info": {
   "codemirror_mode": {
    "name": "ipython",
    "version": 3
   },
   "file_extension": ".py",
   "mimetype": "text/x-python",
   "name": "python",
   "nbconvert_exporter": "python",
   "pygments_lexer": "ipython3",
   "version": "3.9.12"
  }
 },
 "nbformat": 4,
 "nbformat_minor": 5
}
